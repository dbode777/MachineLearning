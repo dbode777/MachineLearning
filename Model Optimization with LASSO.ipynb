{
 "cells": [
  {
   "cell_type": "markdown",
   "id": "07490bbf",
   "metadata": {},
   "source": [
    "# Model Optimization with LASSO"
   ]
  },
  {
   "cell_type": "code",
   "execution_count": 1,
   "id": "c0024c85",
   "metadata": {},
   "outputs": [],
   "source": [
    "import numpy as np\n",
    "import pandas as pd\n",
    "import matplotlib.pyplot as plt\n",
    "%matplotlib inline\n",
    "import sklearn\n",
    "from sklearn.model_selection import train_test_split\n",
    "from sklearn.linear_model import LinearRegression"
   ]
  },
  {
   "cell_type": "code",
   "execution_count": 3,
   "id": "7ab14152",
   "metadata": {},
   "outputs": [],
   "source": [
    "Lasso_df = pd.read_csv('LASSO-data-set.csv')"
   ]
  },
  {
   "cell_type": "code",
   "execution_count": 4,
   "id": "55e0c974",
   "metadata": {},
   "outputs": [
    {
     "data": {
      "text/html": [
       "<div>\n",
       "<style scoped>\n",
       "    .dataframe tbody tr th:only-of-type {\n",
       "        vertical-align: middle;\n",
       "    }\n",
       "\n",
       "    .dataframe tbody tr th {\n",
       "        vertical-align: top;\n",
       "    }\n",
       "\n",
       "    .dataframe thead th {\n",
       "        text-align: right;\n",
       "    }\n",
       "</style>\n",
       "<table border=\"1\" class=\"dataframe\">\n",
       "  <thead>\n",
       "    <tr style=\"text-align: right;\">\n",
       "      <th></th>\n",
       "      <th>strength</th>\n",
       "      <th>dexterity</th>\n",
       "      <th>constitution</th>\n",
       "      <th>wisdom</th>\n",
       "      <th>intelligence</th>\n",
       "      <th>charisma</th>\n",
       "      <th>weight</th>\n",
       "      <th>height</th>\n",
       "      <th>modifier1</th>\n",
       "      <th>modifier2</th>\n",
       "      <th>modifier3</th>\n",
       "      <th>modifier4</th>\n",
       "      <th>modifier5</th>\n",
       "      <th>modifier6</th>\n",
       "      <th>modifier7</th>\n",
       "      <th>modifier8</th>\n",
       "      <th>score</th>\n",
       "    </tr>\n",
       "  </thead>\n",
       "  <tbody>\n",
       "    <tr>\n",
       "      <th>0</th>\n",
       "      <td>156</td>\n",
       "      <td>181</td>\n",
       "      <td>54</td>\n",
       "      <td>61</td>\n",
       "      <td>159</td>\n",
       "      <td>60</td>\n",
       "      <td>170</td>\n",
       "      <td>58</td>\n",
       "      <td>56</td>\n",
       "      <td>60</td>\n",
       "      <td>56</td>\n",
       "      <td>60</td>\n",
       "      <td>6</td>\n",
       "      <td>4</td>\n",
       "      <td>4</td>\n",
       "      <td>4</td>\n",
       "      <td>652.566513</td>\n",
       "    </tr>\n",
       "    <tr>\n",
       "      <th>1</th>\n",
       "      <td>148</td>\n",
       "      <td>137</td>\n",
       "      <td>89</td>\n",
       "      <td>147</td>\n",
       "      <td>159</td>\n",
       "      <td>79</td>\n",
       "      <td>166</td>\n",
       "      <td>84</td>\n",
       "      <td>47</td>\n",
       "      <td>44</td>\n",
       "      <td>53</td>\n",
       "      <td>49</td>\n",
       "      <td>11</td>\n",
       "      <td>10</td>\n",
       "      <td>5</td>\n",
       "      <td>8</td>\n",
       "      <td>413.145270</td>\n",
       "    </tr>\n",
       "    <tr>\n",
       "      <th>2</th>\n",
       "      <td>164</td>\n",
       "      <td>144</td>\n",
       "      <td>79</td>\n",
       "      <td>143</td>\n",
       "      <td>164</td>\n",
       "      <td>84</td>\n",
       "      <td>175</td>\n",
       "      <td>80</td>\n",
       "      <td>51</td>\n",
       "      <td>56</td>\n",
       "      <td>53</td>\n",
       "      <td>56</td>\n",
       "      <td>7</td>\n",
       "      <td>13</td>\n",
       "      <td>12</td>\n",
       "      <td>8</td>\n",
       "      <td>510.830805</td>\n",
       "    </tr>\n",
       "    <tr>\n",
       "      <th>3</th>\n",
       "      <td>176</td>\n",
       "      <td>53</td>\n",
       "      <td>84</td>\n",
       "      <td>178</td>\n",
       "      <td>198</td>\n",
       "      <td>85</td>\n",
       "      <td>180</td>\n",
       "      <td>88</td>\n",
       "      <td>37</td>\n",
       "      <td>38</td>\n",
       "      <td>40</td>\n",
       "      <td>36</td>\n",
       "      <td>5</td>\n",
       "      <td>5</td>\n",
       "      <td>0</td>\n",
       "      <td>5</td>\n",
       "      <td>392.261796</td>\n",
       "    </tr>\n",
       "    <tr>\n",
       "      <th>4</th>\n",
       "      <td>164</td>\n",
       "      <td>86</td>\n",
       "      <td>86</td>\n",
       "      <td>75</td>\n",
       "      <td>185</td>\n",
       "      <td>93</td>\n",
       "      <td>180</td>\n",
       "      <td>89</td>\n",
       "      <td>45</td>\n",
       "      <td>47</td>\n",
       "      <td>46</td>\n",
       "      <td>48</td>\n",
       "      <td>-1</td>\n",
       "      <td>2</td>\n",
       "      <td>-1</td>\n",
       "      <td>3</td>\n",
       "      <td>472.258696</td>\n",
       "    </tr>\n",
       "    <tr>\n",
       "      <th>...</th>\n",
       "      <td>...</td>\n",
       "      <td>...</td>\n",
       "      <td>...</td>\n",
       "      <td>...</td>\n",
       "      <td>...</td>\n",
       "      <td>...</td>\n",
       "      <td>...</td>\n",
       "      <td>...</td>\n",
       "      <td>...</td>\n",
       "      <td>...</td>\n",
       "      <td>...</td>\n",
       "      <td>...</td>\n",
       "      <td>...</td>\n",
       "      <td>...</td>\n",
       "      <td>...</td>\n",
       "      <td>...</td>\n",
       "      <td>...</td>\n",
       "    </tr>\n",
       "    <tr>\n",
       "      <th>995</th>\n",
       "      <td>147</td>\n",
       "      <td>136</td>\n",
       "      <td>71</td>\n",
       "      <td>183</td>\n",
       "      <td>178</td>\n",
       "      <td>74</td>\n",
       "      <td>164</td>\n",
       "      <td>73</td>\n",
       "      <td>49</td>\n",
       "      <td>54</td>\n",
       "      <td>49</td>\n",
       "      <td>53</td>\n",
       "      <td>13</td>\n",
       "      <td>15</td>\n",
       "      <td>9</td>\n",
       "      <td>10</td>\n",
       "      <td>469.795129</td>\n",
       "    </tr>\n",
       "    <tr>\n",
       "      <th>996</th>\n",
       "      <td>180</td>\n",
       "      <td>155</td>\n",
       "      <td>67</td>\n",
       "      <td>162</td>\n",
       "      <td>163</td>\n",
       "      <td>67</td>\n",
       "      <td>173</td>\n",
       "      <td>62</td>\n",
       "      <td>27</td>\n",
       "      <td>22</td>\n",
       "      <td>28</td>\n",
       "      <td>23</td>\n",
       "      <td>5</td>\n",
       "      <td>2</td>\n",
       "      <td>9</td>\n",
       "      <td>7</td>\n",
       "      <td>402.313429</td>\n",
       "    </tr>\n",
       "    <tr>\n",
       "      <th>997</th>\n",
       "      <td>191</td>\n",
       "      <td>119</td>\n",
       "      <td>68</td>\n",
       "      <td>193</td>\n",
       "      <td>192</td>\n",
       "      <td>65</td>\n",
       "      <td>173</td>\n",
       "      <td>67</td>\n",
       "      <td>42</td>\n",
       "      <td>33</td>\n",
       "      <td>36</td>\n",
       "      <td>38</td>\n",
       "      <td>9</td>\n",
       "      <td>10</td>\n",
       "      <td>8</td>\n",
       "      <td>5</td>\n",
       "      <td>480.564293</td>\n",
       "    </tr>\n",
       "    <tr>\n",
       "      <th>998</th>\n",
       "      <td>160</td>\n",
       "      <td>167</td>\n",
       "      <td>70</td>\n",
       "      <td>92</td>\n",
       "      <td>162</td>\n",
       "      <td>69</td>\n",
       "      <td>175</td>\n",
       "      <td>72</td>\n",
       "      <td>58</td>\n",
       "      <td>64</td>\n",
       "      <td>64</td>\n",
       "      <td>63</td>\n",
       "      <td>1</td>\n",
       "      <td>-1</td>\n",
       "      <td>-1</td>\n",
       "      <td>1</td>\n",
       "      <td>642.229907</td>\n",
       "    </tr>\n",
       "    <tr>\n",
       "      <th>999</th>\n",
       "      <td>193</td>\n",
       "      <td>91</td>\n",
       "      <td>63</td>\n",
       "      <td>179</td>\n",
       "      <td>191</td>\n",
       "      <td>67</td>\n",
       "      <td>177</td>\n",
       "      <td>68</td>\n",
       "      <td>61</td>\n",
       "      <td>68</td>\n",
       "      <td>64</td>\n",
       "      <td>63</td>\n",
       "      <td>3</td>\n",
       "      <td>12</td>\n",
       "      <td>3</td>\n",
       "      <td>7</td>\n",
       "      <td>626.752671</td>\n",
       "    </tr>\n",
       "  </tbody>\n",
       "</table>\n",
       "<p>1000 rows × 17 columns</p>\n",
       "</div>"
      ],
      "text/plain": [
       "     strength  dexterity  constitution  wisdom  intelligence  charisma  \\\n",
       "0         156        181            54      61           159        60   \n",
       "1         148        137            89     147           159        79   \n",
       "2         164        144            79     143           164        84   \n",
       "3         176         53            84     178           198        85   \n",
       "4         164         86            86      75           185        93   \n",
       "..        ...        ...           ...     ...           ...       ...   \n",
       "995       147        136            71     183           178        74   \n",
       "996       180        155            67     162           163        67   \n",
       "997       191        119            68     193           192        65   \n",
       "998       160        167            70      92           162        69   \n",
       "999       193         91            63     179           191        67   \n",
       "\n",
       "     weight  height  modifier1  modifier2  modifier3  modifier4  modifier5  \\\n",
       "0       170      58         56         60         56         60          6   \n",
       "1       166      84         47         44         53         49         11   \n",
       "2       175      80         51         56         53         56          7   \n",
       "3       180      88         37         38         40         36          5   \n",
       "4       180      89         45         47         46         48         -1   \n",
       "..      ...     ...        ...        ...        ...        ...        ...   \n",
       "995     164      73         49         54         49         53         13   \n",
       "996     173      62         27         22         28         23          5   \n",
       "997     173      67         42         33         36         38          9   \n",
       "998     175      72         58         64         64         63          1   \n",
       "999     177      68         61         68         64         63          3   \n",
       "\n",
       "     modifier6  modifier7  modifier8       score  \n",
       "0            4          4          4  652.566513  \n",
       "1           10          5          8  413.145270  \n",
       "2           13         12          8  510.830805  \n",
       "3            5          0          5  392.261796  \n",
       "4            2         -1          3  472.258696  \n",
       "..         ...        ...        ...         ...  \n",
       "995         15          9         10  469.795129  \n",
       "996          2          9          7  402.313429  \n",
       "997         10          8          5  480.564293  \n",
       "998         -1         -1          1  642.229907  \n",
       "999         12          3          7  626.752671  \n",
       "\n",
       "[1000 rows x 17 columns]"
      ]
     },
     "execution_count": 4,
     "metadata": {},
     "output_type": "execute_result"
    }
   ],
   "source": [
    "Lasso_df"
   ]
  },
  {
   "cell_type": "code",
   "execution_count": 5,
   "id": "d7529de0",
   "metadata": {},
   "outputs": [],
   "source": [
    "y = Lasso_df['strength']\n",
    "X = Lasso_df.drop(columns='strength')"
   ]
  },
  {
   "cell_type": "code",
   "execution_count": 8,
   "id": "1e99485b",
   "metadata": {},
   "outputs": [],
   "source": [
    "X_train, X_test, y_train, y_test = train_test_split(X,y,test_size=.25,random_state=0)"
   ]
  },
  {
   "cell_type": "code",
   "execution_count": 34,
   "id": "4cd1c5ac",
   "metadata": {},
   "outputs": [
    {
     "data": {
      "text/plain": [
       "array([ 0.        ,  0.        , -0.        ,  0.02948639,  0.        ,\n",
       "        0.63409044,  0.        , -0.        , -0.        , -0.        ,\n",
       "       -0.        ,  0.        ,  0.        ,  0.        ,  0.        ,\n",
       "        0.00143695])"
      ]
     },
     "execution_count": 34,
     "metadata": {},
     "output_type": "execute_result"
    }
   ],
   "source": [
    "hyper_test = sklearn.linear_model.LassoCV(alphas=[13], random_state=0).fit(X_train,y_train)\n",
    "hyper_test.coef_"
   ]
  },
  {
   "cell_type": "markdown",
   "id": "3dbf5cb5",
   "metadata": {},
   "source": [
    "Alphas set to 13 seems to be the magic number."
   ]
  },
  {
   "cell_type": "code",
   "execution_count": 35,
   "id": "11ff12c9",
   "metadata": {},
   "outputs": [],
   "source": [
    "predictions = hyper_test.predict(X_test)"
   ]
  },
  {
   "cell_type": "code",
   "execution_count": 38,
   "id": "06f819d6",
   "metadata": {
    "scrolled": true
   },
   "outputs": [
    {
     "data": {
      "text/plain": [
       "Text(0, 0.5, 'Predicted strength')"
      ]
     },
     "execution_count": 38,
     "metadata": {},
     "output_type": "execute_result"
    },
    {
     "data": {
      "image/png": "[encoded data removed]",
      "text/plain": [
       "<Figure size 432x288 with 1 Axes>"
      ]
     },
     "metadata": {
      "needs_background": "light"
     },
     "output_type": "display_data"
    }
   ],
   "source": [
    "plt.scatter(y_test.values, predictions)\n",
    "plt.title(\"Actual strength vs. Predicted strength\")\n",
    "plt.xlabel(\"Actual strength\")\n",
    "plt.ylabel(\"Predicted strength\")"
   ]
  },
  {
   "cell_type": "markdown",
   "id": "6d4dd7a4",
   "metadata": {},
   "source": [
    "General trend upward and good variation."
   ]
  },
  {
   "cell_type": "code",
   "execution_count": 39,
   "id": "425ee360",
   "metadata": {},
   "outputs": [
    {
     "data": {
      "text/plain": [
       "Text(0, 0.5, 'Residuals')"
      ]
     },
     "execution_count": 39,
     "metadata": {},
     "output_type": "execute_result"
    },
    {
     "data": {
      "image/png": "[encoded data removed]",
      "text/plain": [
       "<Figure size 432x288 with 1 Axes>"
      ]
     },
     "metadata": {
      "needs_background": "light"
     },
     "output_type": "display_data"
    }
   ],
   "source": [
    "plt.scatter(predictions, predictions - y_test.values)\n",
    "plt.title(\"Predicted strength vs. Residuals\")\n",
    "plt.xlabel(\"Predicted strength\")\n",
    "plt.ylabel(\"Residuals\")"
   ]
  },
  {
   "cell_type": "markdown",
   "id": "d7afee4e",
   "metadata": {},
   "source": [
    "No identifiable pattern. Shows the model isn't overfitting."
   ]
  },
  {
   "cell_type": "code",
   "execution_count": 43,
   "id": "91fb9702",
   "metadata": {},
   "outputs": [
    {
     "name": "stdout",
     "output_type": "stream",
     "text": [
      "Coefficient of determination and strength: 0.2529\n"
     ]
    }
   ],
   "source": [
    "print(f\"Coefficient of determination and strength: {hyper_test.score(X_test,y_test):.4f}\")"
   ]
  },
  {
   "cell_type": "code",
   "execution_count": 44,
   "id": "9d235d01",
   "metadata": {},
   "outputs": [
    {
     "data": {
      "text/plain": [
       "9.416347017154237"
      ]
     },
     "execution_count": 44,
     "metadata": {},
     "output_type": "execute_result"
    }
   ],
   "source": [
    "sklearn.metrics.median_absolute_error(y_test, predictions)"
   ]
  },
  {
   "cell_type": "code",
   "execution_count": 48,
   "id": "b259d801",
   "metadata": {},
   "outputs": [
    {
     "name": "stdout",
     "output_type": "stream",
     "text": [
      "y = 58.04 + 0.00 x_0 + 0.00 x_1 + -0.00 x_2 + 0.03 x_3 + 0.00 x_4 + 0.63 x_5 + 0.00 x_6 + -0.00 x_7 + -0.00 x_8 + -0.00 x_9 + -0.00 x_10 + 0.00 x_11 + 0.00 x_12 + 0.00 x_13 + 0.00 x_14 + 0.00 x_15 \n"
     ]
    }
   ],
   "source": [
    "equation_of_best_fit = f'y = {hyper_test.intercept_:.2f} '\n",
    "\n",
    "for index in range(0,len(hyper_test.coef_)):\n",
    "    if index < len(hyper_test.coef_):\n",
    "        equation_of_best_fit = equation_of_best_fit + f\"+ {hyper_test.coef_[index]:.2f} x_{index} \"\n",
    "    else:\n",
    "        equation_of_best_fit = equation_of_best_fit + f\"+ {hyper_test.coef_[index]:.2f} x_{index}\"\n",
    "        \n",
    "print(equation_of_best_fit)"
   ]
  },
  {
   "cell_type": "markdown",
   "id": "de324d0f",
   "metadata": {},
   "source": [
    "All features were retained, as the original dataset had 16 features. If the zeroed features are removed, then only 2 features remain."
   ]
  },
  {
   "cell_type": "code",
   "execution_count": 49,
   "id": "08672054",
   "metadata": {},
   "outputs": [],
   "source": [
    "linear_test = LinearRegression().fit(X_train,y_train)"
   ]
  },
  {
   "cell_type": "code",
   "execution_count": 53,
   "id": "a449e000",
   "metadata": {},
   "outputs": [
    {
     "data": {
      "text/plain": [
       "Text(0, 0.5, 'Predicted strength')"
      ]
     },
     "execution_count": 53,
     "metadata": {},
     "output_type": "execute_result"
    },
    {
     "data": {
      "image/png": "[encoded data removed]",
      "text/plain": [
       "<Figure size 432x288 with 1 Axes>"
      ]
     },
     "metadata": {
      "needs_background": "light"
     },
     "output_type": "display_data"
    }
   ],
   "source": [
    "linear_predictions = linear_test.predict(X_test)\n",
    "\n",
    "plt.scatter(y_test.values, linear_predictions)\n",
    "plt.title(\"Actual strength vs. Predicted strength - Linear Model\")\n",
    "plt.xlabel(\"Actual strength\")\n",
    "plt.ylabel(\"Predicted strength\")"
   ]
  },
  {
   "cell_type": "code",
   "execution_count": 52,
   "id": "9437a377",
   "metadata": {},
   "outputs": [
    {
     "data": {
      "text/plain": [
       "Text(0, 0.5, 'Residuals')"
      ]
     },
     "execution_count": 52,
     "metadata": {},
     "output_type": "execute_result"
    },
    {
     "data": {
      "image/png": "[encoded data removed]",
      "text/plain": [
       "<Figure size 432x288 with 1 Axes>"
      ]
     },
     "metadata": {
      "needs_background": "light"
     },
     "output_type": "display_data"
    }
   ],
   "source": [
    "plt.scatter(predictions, predictions - y_test.values)\n",
    "plt.title(\"Predicted strength vs. Residuals - Linear Model\")\n",
    "plt.xlabel(\"Predicted strength\")\n",
    "plt.ylabel(\"Residuals\")"
   ]
  },
  {
   "cell_type": "code",
   "execution_count": 54,
   "id": "11c5b02c",
   "metadata": {},
   "outputs": [
    {
     "data": {
      "text/plain": [
       "0.28842323363720146"
      ]
     },
     "execution_count": 54,
     "metadata": {},
     "output_type": "execute_result"
    }
   ],
   "source": [
    "linear_test.score(X_test,y_test)"
   ]
  },
  {
   "cell_type": "code",
   "execution_count": 56,
   "id": "ad23934c",
   "metadata": {},
   "outputs": [
    {
     "data": {
      "text/plain": [
       "9.015201047874896"
      ]
     },
     "execution_count": 56,
     "metadata": {},
     "output_type": "execute_result"
    }
   ],
   "source": [
    "sklearn.metrics.median_absolute_error(y_test, linear_predictions)"
   ]
  },
  {
   "cell_type": "code",
   "execution_count": 55,
   "id": "75ef7da7",
   "metadata": {
    "scrolled": true
   },
   "outputs": [
    {
     "name": "stdout",
     "output_type": "stream",
     "text": [
      "y = -41.16 + 0.01 x_0 + -0.14 x_1 + -0.00 x_2 + 0.03 x_3 + 0.12 x_4 + 3.34 x_5 + -2.95 x_6 + 0.17 x_7 + 0.01 x_8 + -0.04 x_9 + 3.43 x_10 + 0.33 x_11 + 0.05 x_12 + 0.13 x_13 + -4.58 x_14 + -0.60 x_15 \n"
     ]
    }
   ],
   "source": [
    "lin_equation_of_best_fit = f'y = {linear_test.intercept_:.2f} '\n",
    "\n",
    "for index in range(0,len(linear_test.coef_)):\n",
    "    if index < len(linear_test.coef_):\n",
    "        lin_equation_of_best_fit = lin_equation_of_best_fit + f\"+ {linear_test.coef_[index]:.2f} x_{index} \"\n",
    "    else:\n",
    "        lin_equation_of_best_fit = lin_equation_of_best_fit + f\"+ {linear_test.coef_[index]:.2f} x_{index}\"\n",
    "        \n",
    "print(lin_equation_of_best_fit)"
   ]
  },
  {
   "cell_type": "markdown",
   "id": "ccafd065",
   "metadata": {},
   "source": [
    "## Discussion on when to use Linear Regression or LASSO CV models"
   ]
  },
  {
   "cell_type": "markdown",
   "id": "a0b4f5ce",
   "metadata": {},
   "source": [
    "The Linear regression model is slightly more accurate, but requires the use of every feature. The LASSO CV model, once optimized with the correct alphas value, only required 2 features to accurately generate an optimized model. For smaller datasets, the Linear Regression model is ideal, as the degree of accuracy doesn't sacrifice time/computing cost; where as the for larger datasets,  the ideal model is Lasso CV, as you can remove unnecessary columns to speed up the model generation and reduce computing cost."
   ]
  },
  {
   "cell_type": "code",
   "execution_count": null,
   "id": "2b143c89",
   "metadata": {},
   "outputs": [],
   "source": []
  }
 ],
 "metadata": {
  "kernelspec": {
   "display_name": "Python 3 (ipykernel)",
   "language": "python",
   "name": "python3"
  },
  "language_info": {
   "codemirror_mode": {
    "name": "ipython",
    "version": 3
   },
   "file_extension": ".py",
   "mimetype": "text/x-python",
   "name": "python",
   "nbconvert_exporter": "python",
   "pygments_lexer": "ipython3",
   "version": "3.8.5"
  }
 },
 "nbformat": 4,
 "nbformat_minor": 5
}
