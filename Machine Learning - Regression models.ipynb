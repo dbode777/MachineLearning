{
 "cells": [
  {
   "cell_type": "markdown",
   "id": "2ff50ed7",
   "metadata": {},
   "source": [
    "# Machine Learning - Regression Models"
   ]
  },
  {
   "cell_type": "code",
   "execution_count": 1,
   "id": "d4849375",
   "metadata": {},
   "outputs": [],
   "source": [
    "import numpy as np\n",
    "import pandas as pd\n",
    "import sklearn\n",
    "from sklearn.model_selection import train_test_split"
   ]
  },
  {
   "cell_type": "code",
   "execution_count": 2,
   "id": "7f7f6d2c",
   "metadata": {},
   "outputs": [],
   "source": [
    "cars = pd.read_csv(\"Cars93.csv\")"
   ]
  },
  {
   "cell_type": "code",
   "execution_count": 3,
   "id": "6d45f547",
   "metadata": {},
   "outputs": [],
   "source": [
    "cars.drop(columns='Unnamed: 0', inplace=True)"
   ]
  },
  {
   "cell_type": "code",
   "execution_count": 4,
   "id": "603beebf",
   "metadata": {},
   "outputs": [
    {
     "data": {
      "text/html": [
       "<div>\n",
       "<style scoped>\n",
       "    .dataframe tbody tr th:only-of-type {\n",
       "        vertical-align: middle;\n",
       "    }\n",
       "\n",
       "    .dataframe tbody tr th {\n",
       "        vertical-align: top;\n",
       "    }\n",
       "\n",
       "    .dataframe thead th {\n",
       "        text-align: right;\n",
       "    }\n",
       "</style>\n",
       "<table border=\"1\" class=\"dataframe\">\n",
       "  <thead>\n",
       "    <tr style=\"text-align: right;\">\n",
       "      <th></th>\n",
       "      <th>Manufacturer</th>\n",
       "      <th>Model</th>\n",
       "      <th>Type</th>\n",
       "      <th>Min.Price</th>\n",
       "      <th>Price</th>\n",
       "      <th>Max.Price</th>\n",
       "      <th>MPG.city</th>\n",
       "      <th>MPG.highway</th>\n",
       "      <th>AirBags</th>\n",
       "      <th>DriveTrain</th>\n",
       "      <th>...</th>\n",
       "      <th>Passengers</th>\n",
       "      <th>Length</th>\n",
       "      <th>Wheelbase</th>\n",
       "      <th>Width</th>\n",
       "      <th>Turn.circle</th>\n",
       "      <th>Rear.seat.room</th>\n",
       "      <th>Luggage.room</th>\n",
       "      <th>Weight</th>\n",
       "      <th>Origin</th>\n",
       "      <th>Make</th>\n",
       "    </tr>\n",
       "  </thead>\n",
       "  <tbody>\n",
       "    <tr>\n",
       "      <th>0</th>\n",
       "      <td>Acura</td>\n",
       "      <td>Integra</td>\n",
       "      <td>Small</td>\n",
       "      <td>12.9</td>\n",
       "      <td>15.9</td>\n",
       "      <td>18.8</td>\n",
       "      <td>25</td>\n",
       "      <td>31</td>\n",
       "      <td>None</td>\n",
       "      <td>Front</td>\n",
       "      <td>...</td>\n",
       "      <td>5</td>\n",
       "      <td>177</td>\n",
       "      <td>102</td>\n",
       "      <td>68</td>\n",
       "      <td>37</td>\n",
       "      <td>26.5</td>\n",
       "      <td>11.0</td>\n",
       "      <td>2705</td>\n",
       "      <td>non-USA</td>\n",
       "      <td>Acura Integra</td>\n",
       "    </tr>\n",
       "    <tr>\n",
       "      <th>1</th>\n",
       "      <td>Acura</td>\n",
       "      <td>Legend</td>\n",
       "      <td>Midsize</td>\n",
       "      <td>29.2</td>\n",
       "      <td>33.9</td>\n",
       "      <td>38.7</td>\n",
       "      <td>18</td>\n",
       "      <td>25</td>\n",
       "      <td>Driver &amp; Passenger</td>\n",
       "      <td>Front</td>\n",
       "      <td>...</td>\n",
       "      <td>5</td>\n",
       "      <td>195</td>\n",
       "      <td>115</td>\n",
       "      <td>71</td>\n",
       "      <td>38</td>\n",
       "      <td>30.0</td>\n",
       "      <td>15.0</td>\n",
       "      <td>3560</td>\n",
       "      <td>non-USA</td>\n",
       "      <td>Acura Legend</td>\n",
       "    </tr>\n",
       "    <tr>\n",
       "      <th>2</th>\n",
       "      <td>Audi</td>\n",
       "      <td>90</td>\n",
       "      <td>Compact</td>\n",
       "      <td>25.9</td>\n",
       "      <td>29.1</td>\n",
       "      <td>32.3</td>\n",
       "      <td>20</td>\n",
       "      <td>26</td>\n",
       "      <td>Driver only</td>\n",
       "      <td>Front</td>\n",
       "      <td>...</td>\n",
       "      <td>5</td>\n",
       "      <td>180</td>\n",
       "      <td>102</td>\n",
       "      <td>67</td>\n",
       "      <td>37</td>\n",
       "      <td>28.0</td>\n",
       "      <td>14.0</td>\n",
       "      <td>3375</td>\n",
       "      <td>non-USA</td>\n",
       "      <td>Audi 90</td>\n",
       "    </tr>\n",
       "    <tr>\n",
       "      <th>3</th>\n",
       "      <td>Audi</td>\n",
       "      <td>100</td>\n",
       "      <td>Midsize</td>\n",
       "      <td>30.8</td>\n",
       "      <td>37.7</td>\n",
       "      <td>44.6</td>\n",
       "      <td>19</td>\n",
       "      <td>26</td>\n",
       "      <td>Driver &amp; Passenger</td>\n",
       "      <td>Front</td>\n",
       "      <td>...</td>\n",
       "      <td>6</td>\n",
       "      <td>193</td>\n",
       "      <td>106</td>\n",
       "      <td>70</td>\n",
       "      <td>37</td>\n",
       "      <td>31.0</td>\n",
       "      <td>17.0</td>\n",
       "      <td>3405</td>\n",
       "      <td>non-USA</td>\n",
       "      <td>Audi 100</td>\n",
       "    </tr>\n",
       "    <tr>\n",
       "      <th>4</th>\n",
       "      <td>BMW</td>\n",
       "      <td>535i</td>\n",
       "      <td>Midsize</td>\n",
       "      <td>23.7</td>\n",
       "      <td>30.0</td>\n",
       "      <td>36.2</td>\n",
       "      <td>22</td>\n",
       "      <td>30</td>\n",
       "      <td>Driver only</td>\n",
       "      <td>Rear</td>\n",
       "      <td>...</td>\n",
       "      <td>4</td>\n",
       "      <td>186</td>\n",
       "      <td>109</td>\n",
       "      <td>69</td>\n",
       "      <td>39</td>\n",
       "      <td>27.0</td>\n",
       "      <td>13.0</td>\n",
       "      <td>3640</td>\n",
       "      <td>non-USA</td>\n",
       "      <td>BMW 535i</td>\n",
       "    </tr>\n",
       "  </tbody>\n",
       "</table>\n",
       "<p>5 rows × 27 columns</p>\n",
       "</div>"
      ],
      "text/plain": [
       "  Manufacturer    Model     Type  Min.Price  Price  Max.Price  MPG.city  \\\n",
       "0        Acura  Integra    Small       12.9   15.9       18.8        25   \n",
       "1        Acura   Legend  Midsize       29.2   33.9       38.7        18   \n",
       "2         Audi       90  Compact       25.9   29.1       32.3        20   \n",
       "3         Audi      100  Midsize       30.8   37.7       44.6        19   \n",
       "4          BMW     535i  Midsize       23.7   30.0       36.2        22   \n",
       "\n",
       "   MPG.highway             AirBags DriveTrain  ... Passengers  Length  \\\n",
       "0           31                None      Front  ...          5     177   \n",
       "1           25  Driver & Passenger      Front  ...          5     195   \n",
       "2           26         Driver only      Front  ...          5     180   \n",
       "3           26  Driver & Passenger      Front  ...          6     193   \n",
       "4           30         Driver only       Rear  ...          4     186   \n",
       "\n",
       "   Wheelbase  Width  Turn.circle Rear.seat.room  Luggage.room  Weight  \\\n",
       "0        102     68           37           26.5          11.0    2705   \n",
       "1        115     71           38           30.0          15.0    3560   \n",
       "2        102     67           37           28.0          14.0    3375   \n",
       "3        106     70           37           31.0          17.0    3405   \n",
       "4        109     69           39           27.0          13.0    3640   \n",
       "\n",
       "    Origin           Make  \n",
       "0  non-USA  Acura Integra  \n",
       "1  non-USA   Acura Legend  \n",
       "2  non-USA        Audi 90  \n",
       "3  non-USA       Audi 100  \n",
       "4  non-USA       BMW 535i  \n",
       "\n",
       "[5 rows x 27 columns]"
      ]
     },
     "execution_count": 4,
     "metadata": {},
     "output_type": "execute_result"
    }
   ],
   "source": [
    "cars.head()"
   ]
  },
  {
   "cell_type": "code",
   "execution_count": 5,
   "id": "e31b49e8",
   "metadata": {},
   "outputs": [
    {
     "data": {
      "text/html": [
       "<div>\n",
       "<style scoped>\n",
       "    .dataframe tbody tr th:only-of-type {\n",
       "        vertical-align: middle;\n",
       "    }\n",
       "\n",
       "    .dataframe tbody tr th {\n",
       "        vertical-align: top;\n",
       "    }\n",
       "\n",
       "    .dataframe thead th {\n",
       "        text-align: right;\n",
       "    }\n",
       "</style>\n",
       "<table border=\"1\" class=\"dataframe\">\n",
       "  <thead>\n",
       "    <tr style=\"text-align: right;\">\n",
       "      <th></th>\n",
       "      <th>Weight</th>\n",
       "      <th>MPG.highway</th>\n",
       "    </tr>\n",
       "  </thead>\n",
       "  <tbody>\n",
       "    <tr>\n",
       "      <th>Weight</th>\n",
       "      <td>1.000000</td>\n",
       "      <td>-0.810658</td>\n",
       "    </tr>\n",
       "    <tr>\n",
       "      <th>MPG.highway</th>\n",
       "      <td>-0.810658</td>\n",
       "      <td>1.000000</td>\n",
       "    </tr>\n",
       "  </tbody>\n",
       "</table>\n",
       "</div>"
      ],
      "text/plain": [
       "               Weight  MPG.highway\n",
       "Weight       1.000000    -0.810658\n",
       "MPG.highway -0.810658     1.000000"
      ]
     },
     "execution_count": 5,
     "metadata": {},
     "output_type": "execute_result"
    }
   ],
   "source": [
    "cars[['Weight','MPG.highway']].corr()"
   ]
  },
  {
   "cell_type": "markdown",
   "id": "bcb7572c",
   "metadata": {},
   "source": [
    "## Scatterplots"
   ]
  },
  {
   "cell_type": "code",
   "execution_count": 6,
   "id": "b9d9483a",
   "metadata": {},
   "outputs": [
    {
     "data": {
      "image/png": "[encoded data removed]",
      "text/plain": [
       "<Figure size 432x288 with 1 Axes>"
      ]
     },
     "metadata": {},
     "output_type": "display_data"
    }
   ],
   "source": [
    "import seaborn as sns\n",
    "import matplotlib.pyplot as plt\n",
    "%matplotlib inline\n",
    "sns.set_style('darkgrid')\n",
    "\n",
    "ax = cars.plot(title='Weight of Vehicles vs MPG', kind='scatter', x='Weight', y='MPG.highway')\n",
    "ax.set_xlabel('Weight')\n",
    "ax.set_ylabel('MPG (Highway)')\n",
    "plt.show()"
   ]
  },
  {
   "cell_type": "markdown",
   "id": "caab2461",
   "metadata": {},
   "source": [
    "Calculating the regression line:"
   ]
  },
  {
   "cell_type": "code",
   "execution_count": 7,
   "id": "c9f648dd",
   "metadata": {},
   "outputs": [
    {
     "data": {
      "image/png": "[encoded data removed]",
      "text/plain": [
       "<Figure size 432x288 with 1 Axes>"
      ]
     },
     "metadata": {},
     "output_type": "display_data"
    }
   ],
   "source": [
    "import scipy.stats\n",
    "\n",
    "x=cars['Weight'].to_numpy()\n",
    "y=cars['MPG.highway'].to_numpy()\n",
    "\n",
    "slope, intercept, r, p, stderr = scipy.stats.linregress(x,y)\n",
    "\n",
    "line = f'Slope: {slope:.2f}\\nIntercept: {intercept:.2f}\\nCorrelation coefficient: r={r:.2f}'\n",
    "\n",
    "ax = cars.plot(title='Weight of Vehicles vs MPG', kind='scatter', x='Weight', y='MPG.highway')\n",
    "ax.set_xlabel('Weight')\n",
    "ax.set_ylabel('MPG (Highway)')\n",
    "ax.plot(x,intercept+slope*x, label = line, color='r')\n",
    "ax.legend(facecolor='white')\n",
    "plt.show()"
   ]
  },
  {
   "cell_type": "markdown",
   "id": "40485b67",
   "metadata": {},
   "source": [
    "## SciKit Learn Linear Regression"
   ]
  },
  {
   "cell_type": "code",
   "execution_count": 8,
   "id": "98b182da",
   "metadata": {},
   "outputs": [],
   "source": [
    "import sklearn\n",
    "from sklearn.model_selection import train_test_split"
   ]
  },
  {
   "cell_type": "code",
   "execution_count": 9,
   "id": "ef85f80e",
   "metadata": {},
   "outputs": [],
   "source": [
    "cars.drop(columns='Make',inplace=True)"
   ]
  },
  {
   "cell_type": "code",
   "execution_count": 10,
   "id": "6135063c",
   "metadata": {},
   "outputs": [],
   "source": [
    "cars[\"Manufacturer\"].replace('Chrylser',\"Chrysler\",inplace=True)"
   ]
  },
  {
   "cell_type": "code",
   "execution_count": 11,
   "id": "054d3377",
   "metadata": {
    "scrolled": false
   },
   "outputs": [
    {
     "name": "stdout",
     "output_type": "stream",
     "text": [
      "<class 'pandas.core.frame.DataFrame'>\n",
      "RangeIndex: 93 entries, 0 to 92\n",
      "Data columns (total 26 columns):\n",
      " #   Column              Non-Null Count  Dtype  \n",
      "---  ------              --------------  -----  \n",
      " 0   Manufacturer        93 non-null     object \n",
      " 1   Model               93 non-null     object \n",
      " 2   Type                93 non-null     object \n",
      " 3   Min.Price           93 non-null     float64\n",
      " 4   Price               93 non-null     float64\n",
      " 5   Max.Price           93 non-null     float64\n",
      " 6   MPG.city            93 non-null     int64  \n",
      " 7   MPG.highway         93 non-null     int64  \n",
      " 8   AirBags             93 non-null     object \n",
      " 9   DriveTrain          93 non-null     object \n",
      " 10  Cylinders           93 non-null     object \n",
      " 11  EngineSize          93 non-null     float64\n",
      " 12  Horsepower          93 non-null     int64  \n",
      " 13  RPM                 93 non-null     int64  \n",
      " 14  Rev.per.mile        93 non-null     int64  \n",
      " 15  Man.trans.avail     93 non-null     object \n",
      " 16  Fuel.tank.capacity  93 non-null     float64\n",
      " 17  Passengers          93 non-null     int64  \n",
      " 18  Length              93 non-null     int64  \n",
      " 19  Wheelbase           93 non-null     int64  \n",
      " 20  Width               93 non-null     int64  \n",
      " 21  Turn.circle         93 non-null     int64  \n",
      " 22  Rear.seat.room      91 non-null     float64\n",
      " 23  Luggage.room        82 non-null     float64\n",
      " 24  Weight              93 non-null     int64  \n",
      " 25  Origin              93 non-null     object \n",
      "dtypes: float64(7), int64(11), object(8)\n",
      "memory usage: 19.0+ KB\n"
     ]
    }
   ],
   "source": [
    "cars.info()"
   ]
  },
  {
   "cell_type": "markdown",
   "id": "86a7826c",
   "metadata": {},
   "source": [
    "Checking for outliers:"
   ]
  },
  {
   "cell_type": "code",
   "execution_count": 12,
   "id": "4ee97f3f",
   "metadata": {},
   "outputs": [
    {
     "name": "stdout",
     "output_type": "stream",
     "text": [
      "\n",
      "\n",
      "Manufacturer\n",
      "Non-numeric column\n",
      "\n",
      "\n",
      "Model\n",
      "Non-numeric column\n",
      "\n",
      "\n",
      "Type\n",
      "Non-numeric column\n",
      "\n",
      "\n",
      "Min.Price\n",
      "[45.4, 43.8]\n",
      "\n",
      "\n",
      "Price\n",
      "[61.9]\n",
      "\n",
      "\n",
      "Max.Price\n",
      "[80.0]\n",
      "\n",
      "\n",
      "MPG.city\n",
      "[46, 42]\n",
      "\n",
      "\n",
      "MPG.highway\n",
      "[50, 46]\n",
      "\n",
      "\n",
      "AirBags\n",
      "Non-numeric column\n",
      "\n",
      "\n",
      "DriveTrain\n",
      "Non-numeric column\n",
      "\n",
      "\n",
      "Cylinders\n",
      "Non-numeric column\n",
      "\n",
      "\n",
      "EngineSize\n",
      "[]\n",
      "\n",
      "\n",
      "Horsepower\n",
      "[]\n",
      "\n",
      "\n",
      "RPM\n",
      "[]\n",
      "\n",
      "\n",
      "Rev.per.mile\n",
      "[]\n",
      "\n",
      "\n",
      "Man.trans.avail\n",
      "Non-numeric column\n",
      "\n",
      "\n",
      "Fuel.tank.capacity\n",
      "[27.0]\n",
      "\n",
      "\n",
      "Passengers\n",
      "[]\n",
      "\n",
      "\n",
      "Length\n",
      "[]\n",
      "\n",
      "\n",
      "Wheelbase\n",
      "[]\n",
      "\n",
      "\n",
      "Width\n",
      "[]\n",
      "\n",
      "\n",
      "Turn.circle\n",
      "[]\n",
      "\n",
      "\n",
      "Rear.seat.room\n",
      "[]\n",
      "\n",
      "\n",
      "Luggage.room\n",
      "[]\n",
      "\n",
      "\n",
      "Weight\n",
      "[]\n",
      "\n",
      "\n",
      "Origin\n",
      "Non-numeric column\n"
     ]
    }
   ],
   "source": [
    "def outlier_check(value, mean, std):\n",
    "    if ((mean + 3*std) < value) or ((mean - 3*std)> value):\n",
    "        return [True, value]\n",
    "    else:\n",
    "        return [False, value]\n",
    "    \n",
    "for x in list(cars.columns):\n",
    "    try:\n",
    "        outlier_list = []\n",
    "        print(\"\\n\")\n",
    "        print(x)\n",
    "        for y in cars[x]:\n",
    "            if outlier_check(y,cars[x].mean(),cars[x].std())[0]:\n",
    "                outlier_list.append(outlier_check(y,cars[x].mean(),cars[x].std())[1])\n",
    "        print(outlier_list)\n",
    "    except:\n",
    "        print(\"Non-numeric column\")"
   ]
  },
  {
   "cell_type": "code",
   "execution_count": 13,
   "id": "e9bad785",
   "metadata": {},
   "outputs": [],
   "source": [
    "from sklearn.impute import SimpleImputer"
   ]
  },
  {
   "cell_type": "code",
   "execution_count": 14,
   "id": "aa874543",
   "metadata": {},
   "outputs": [],
   "source": [
    "mean_imp = SimpleImputer(missing_values=np.nan,strategy='mean')"
   ]
  },
  {
   "cell_type": "code",
   "execution_count": 15,
   "id": "ac7493b0",
   "metadata": {},
   "outputs": [],
   "source": [
    "cars['Rear.seat.room'] = mean_imp.fit_transform(cars['Rear.seat.room'].values.reshape(-1,1))\n",
    "\n",
    "cars['Luggage.room'] = mean_imp.fit_transform(cars['Luggage.room'].values.reshape(-1,1))"
   ]
  },
  {
   "cell_type": "code",
   "execution_count": 16,
   "id": "d2493caa",
   "metadata": {
    "scrolled": true
   },
   "outputs": [],
   "source": [
    "cars_dummies = pd.get_dummies(cars,columns=['Manufacturer','Model','Type',\"AirBags\",'DriveTrain',\"Cylinders\",'Man.trans.avail','Origin'])"
   ]
  },
  {
   "cell_type": "code",
   "execution_count": 17,
   "id": "22717de2",
   "metadata": {},
   "outputs": [],
   "source": [
    "y = cars[\"MPG.highway\"]\n",
    "\n",
    "X = cars_dummies\n",
    "X_train, X_test, y_train, y_test = train_test_split(X,y,test_size=.25,random_state=0)"
   ]
  },
  {
   "cell_type": "code",
   "execution_count": 53,
   "id": "8ac0936c",
   "metadata": {},
   "outputs": [],
   "source": [
    "train_reg = sklearn.linear_model.LinearRegression().fit(X_train, y_train)\n",
    "predictions = train_reg.predict(X_test)"
   ]
  },
  {
   "cell_type": "code",
   "execution_count": 19,
   "id": "03104e71",
   "metadata": {},
   "outputs": [],
   "source": [
    "column_num = list(X_test.columns).index('MPG.highway')"
   ]
  },
  {
   "cell_type": "code",
   "execution_count": 54,
   "id": "13a96359",
   "metadata": {
    "scrolled": true
   },
   "outputs": [
    {
     "data": {
      "text/plain": [
       "array([26.02659942, 33.04724883, 24.01248188, 19.99334529, 27.99336907,\n",
       "       26.02053365, 33.03494835, 33.97362098, 28.97834069, 26.04633656,\n",
       "       37.93342836, 25.02345475, 24.97761901, 26.01404855, 33.02884447,\n",
       "       26.07759376, 27.01996184, 33.03689596, 30.98868728, 27.96280676,\n",
       "       27.00363122, 31.01993947, 27.02331741, 28.01201542])"
      ]
     },
     "execution_count": 54,
     "metadata": {},
     "output_type": "execute_result"
    }
   ],
   "source": [
    "predictions"
   ]
  },
  {
   "cell_type": "code",
   "execution_count": 60,
   "id": "4b62057a",
   "metadata": {
    "scrolled": false
   },
   "outputs": [
    {
     "data": {
      "text/plain": [
       "4.010854836782195"
      ]
     },
     "execution_count": 60,
     "metadata": {},
     "output_type": "execute_result"
    }
   ],
   "source": [
    "y_test.std()"
   ]
  },
  {
   "cell_type": "code",
   "execution_count": 71,
   "id": "8a8fc676",
   "metadata": {
    "scrolled": false
   },
   "outputs": [
    {
     "name": "stdout",
     "output_type": "stream",
     "text": [
      "Intercept: 0.03\n",
      "Coefficient of Determination: r=0.9999\n"
     ]
    },
    {
     "data": {
      "image/png": "[encoded data removed]",
      "text/plain": [
       "<Figure size 432x288 with 1 Axes>"
      ]
     },
     "metadata": {},
     "output_type": "display_data"
    }
   ],
   "source": [
    "sns.set_style('whitegrid')\n",
    "print(f'Intercept: {train_reg.intercept_:.2f}\\nCoefficient of Determination: r={train_reg.score(X_test,y_test):.4f}')\n",
    "\n",
    "plt.scatter(y_test.values, predictions,c='blue',alpha=0.7)\n",
    "plt.title('Actual MPG.highway vs. Predicted MPG.highway')\n",
    "plt.xlabel('Actual MPG (Highway)')\n",
    "plt.ylabel('Predicted MPG (Highway)')\n",
    "plt.show()"
   ]
  },
  {
   "cell_type": "markdown",
   "id": "c2abe6c0",
   "metadata": {},
   "source": [
    "Appears to be near perfect match to actual values."
   ]
  },
  {
   "cell_type": "markdown",
   "id": "470bdd3d",
   "metadata": {},
   "source": [
    "Residual scatter plot:"
   ]
  },
  {
   "cell_type": "code",
   "execution_count": 72,
   "id": "5ef90d1e",
   "metadata": {
    "scrolled": true
   },
   "outputs": [
    {
     "data": {
      "image/png": "[encoded data removed]",
      "text/plain": [
       "<Figure size 432x288 with 1 Axes>"
      ]
     },
     "metadata": {},
     "output_type": "display_data"
    }
   ],
   "source": [
    "plt.scatter(predictions, predictions-y_test.values, c='purple',alpha=0.5)\n",
    "plt.title('Predicted MPG.highway vs. Residuals')\n",
    "plt.xlabel('Predicted MPG (Highway)')\n",
    "plt.ylabel('Residuals')\n",
    "plt.show()"
   ]
  },
  {
   "cell_type": "markdown",
   "id": "5949f967",
   "metadata": {},
   "source": [
    "No identifiable pattern, so the accruacy of the model seems to be plausible."
   ]
  },
  {
   "cell_type": "markdown",
   "id": "313397a8",
   "metadata": {},
   "source": [
    "## Printed out equation for Equation of Best Fit"
   ]
  },
  {
   "cell_type": "code",
   "execution_count": 51,
   "id": "55d9b6f3",
   "metadata": {},
   "outputs": [
    {
     "name": "stdout",
     "output_type": "stream",
     "text": [
      "y = 0.45254634023671514 + -0.009722020561999872x_0 + 0.0007903187314385117x_1 + 0.006629391984487476x_2 + 0.041277511075673845x_3 + 0.9363239460310879x_4 + -0.04773632368848599x_5 + 0.0004032304153605004x_6 + -6.211498032898666e-05x_7 + -0.00026297690723955935x_8 + -0.011497537712660266x_9 + -0.05327258029366495x_10 + 0.005324286878805026x_11 + 0.023071106770207073x_12 + 0.002603540157811085x_13 + -0.021942067326780612x_14 + 0.006795848436532859x_15 + 0.01706208110495072x_16 + -0.00038848376254102535x_17 + 2.7755575615628914e-17x_18 + 0.027956959966838682x_19 + -1.734723475976807e-18x_20 + -0.01849419203499055x_21 + 1.734723475976807e-18x_22 + 0.015737952022360484x_23 + 0.0x_24 + -0.017817938405250578x_25 + 0.0x_26 + -0.0356953636859086x_27 + 0.0x_28 + -0.000620694593195581x_29 + 0.04449685308366403x_30 + 0.0x_31 + 0.0x_32 + -0.016631784049383896x_33 + 0.021428793177140616x_34 + 0.0x_35 + -0.04625873932838055x_36 + -0.06382862497007707x_37 + -0.038669040109102916x_38 + 0.0361717779116387x_39 + 0.0x_40 + 0.0x_41 + -0.002260921416599674x_42 + 0.07789928725232974x_43 + 0.0x_44 + 0.0x_45 + 0.0x_46 + 0.0x_47 + 0.01658567517891716x_48 + 0.0x_49 + 0.0x_50 + 0.0x_51 + 0.0x_52 + 0.0x_53 + 0.0x_54 + 0.0x_55 + 0.01658567517891716x_56 + 0.027956959966838696x_57 + -0.002260921416599674x_58 + -0.000620694593195581x_59 + 0.0x_60 + 0.0x_61 + 0.0x_62 + -0.00012257868574116343x_63 + 0.0x_64 + 0.015860530708101638x_65 + 0.0x_66 + -0.04625873932838055x_67 + 0.0x_68 + 0.0x_69 + 0.0x_70 + 0.0x_71 + 0.0x_72 + 0.0x_73 + 0.014598711839254073x_74 + 0.0x_75 + 0.0x_76 + 0.0x_77 + 0.0x_78 + 0.0x_79 + 0.0x_80 + 0.0x_81 + 0.0361717779116387x_82 + 0.0x_83 + 0.0x_84 + 0.0011681099560186675x_85 + 0.0x_86 + 0.0x_87 + 0.0x_88 + 0.0x_89 + 0.0x_90 + -0.020738070715358457x_91 + -0.014760866996393554x_92 + 0.0x_93 + 0.0x_94 + 0.0x_95 + 0.0x_96 + 0.0x_97 + 0.0x_98 + 0.0x_99 + 0.0x_100 + 0.0x_101 + -0.024063736207184386x_102 + 0.0x_103 + 0.0x_104 + 0.0x_105 + 0.0x_106 + 0.0x_107 + 0.01717859457244754x_108 + -0.038669040109102916x_109 + 0.0x_110 + -0.06382862497007707x_111 + -0.020934496689515032x_112 + 0.0x_113 + 0.0x_114 + 0.0x_115 + 0.0x_116 + 0.0x_117 + 0.0x_118 + 0.0x_119 + 0.004250198604693101x_120 + 0.008448154338739026x_121 + -0.0028786101665451754x_122 + 0.0x_123 + 0.07789928725232974x_124 + 0.06523492379902247x_125 + 0.0x_126 + 0.0x_127 + 0.0x_128 + 0.0x_129 + 0.0x_130 + -0.03358476020052334x_131 + 0.0x_132 + 0.0x_133 + 0.0x_134 + 0.0x_135 + 0.0x_136 + 0.0x_137 + 0.0x_138 + 0.0x_139 + -0.016631784049383896x_140 + 0.0x_141 + -0.008509416243479867x_142 + -0.04357413042311346x_143 + 0.023704677276210624x_144 + -0.006829563590245322x_145 + 0.018152417093921597x_146 + 0.017056015886706383x_147 + 0.015193727244439313x_148 + -0.0127558160875932x_149 + -0.0024379111568461204x_150 + 0.017056015886706383x_151 + 0.003278145705942981x_152 + -0.020334161592649377x_153 + 0.0x_154 + -0.00791436415177963x_155 + 0.01658567517891716x_156 + 0.003710274417553297x_157 + -0.016631784049383896x_158 + 0.004250198604693101x_159 + -0.019399112439113596x_160 + 0.019399112439113596x_161 + -0.005089000317585246x_162 + 0.005089000317585246x_163 \n"
     ]
    }
   ],
   "source": [
    "equation_of_best_fit = f'y = {test_reg.intercept_} '\n",
    "\n",
    "for index in range(0,len(test_reg.coef_)):\n",
    "    if index < len(test_reg.coef_):\n",
    "        equation_of_best_fit = equation_of_best_fit + f\"+ {test_reg.coef_[index]}x_{index} \"\n",
    "    else:\n",
    "        equation_of_best_fit = equation_of_best_fit + f\"+ {test_reg.coef_[index]}x_{index}\"\n",
    "        \n",
    "print(equation_of_best_fit)"
   ]
  },
  {
   "cell_type": "code",
   "execution_count": null,
   "id": "1564df16",
   "metadata": {},
   "outputs": [],
   "source": []
  }
 ],
 "metadata": {
  "kernelspec": {
   "display_name": "Python 3 (ipykernel)",
   "language": "python",
   "name": "python3"
  },
  "language_info": {
   "codemirror_mode": {
    "name": "ipython",
    "version": 3
   },
   "file_extension": ".py",
   "mimetype": "text/x-python",
   "name": "python",
   "nbconvert_exporter": "python",
   "pygments_lexer": "ipython3",
   "version": "3.8.5"
  }
 },
 "nbformat": 4,
 "nbformat_minor": 5
}
